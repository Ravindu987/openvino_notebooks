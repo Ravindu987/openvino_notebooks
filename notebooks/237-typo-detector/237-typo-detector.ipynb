{
 "cells": [
  {
   "attachments": {},
   "cell_type": "markdown",
   "metadata": {},
   "source": [
    "# Typo Detector with OpenVino\n",
    "\n",
    "Typo detection in AI is a process of identifying and correcting typographical errors in text data using machine learning algorithms. The goal of typo detection is to improve the accuracy, readability, and usability of text by identifying and correcting mistakes made during the writing process.\n",
    "\n",
    "A typo detector takes a sentence as an input and identify all typographical errors such as misspellings and homophone errors.\n",
    "\n",
    "This tutorial provides how to use the [Typo Detector](https://huggingface.co/m3hrdadfi/typo-detector-distilbert-en) from the [Hugging Face Transformers](https://huggingface.co/docs/transformers/index) library to perform the above task."
   ]
  },
  {
   "attachments": {},
   "cell_type": "markdown",
   "metadata": {},
   "source": [
    "## Imports"
   ]
  },
  {
   "cell_type": "code",
   "execution_count": 4,
   "metadata": {},
   "outputs": [],
   "source": [
    "from transformers import AutoConfig, AutoTokenizer, AutoModelForTokenClassification, pipeline\n",
    "from openvino.runtime import Core\n",
    "from pathlib import Path\n",
    "import numpy as np\n",
    "import torch"
   ]
  },
  {
   "attachments": {},
   "cell_type": "markdown",
   "metadata": {},
   "source": [
    "## Methods\n",
    "\n",
    "There are two methods to use the typo detection model with OpenVino. In this tutorial we will look at both.\n",
    "\n",
    "##### 1. Using the [Hugging Face Optimum](https://huggingface.co/docs/optimum/index) library\n",
    "The Hugging Face Optimum API is a high-level API that allows us to convert and quantize models from the Hugging Face Transformers library to the OpenVINO™ IR format.\n",
    "\n",
    "##### 2. Converting the model to ONNX and then to OpenVino IR\n",
    "First the Pytorch model is convereted to the ONNX format and then the [Model Optimizer](https://docs.openvino.ai/latest/openvino_docs_MO_DG_Deep_Learning_Model_Optimizer_DevGuide.html) tool will be used to convert to Openvino IR format."
   ]
  },
  {
   "attachments": {},
   "cell_type": "markdown",
   "metadata": {},
   "source": [
    "## Hugging Face Optimum library\n",
    "\n",
    "For this method, we need to install the Hugging Face Optimum library accelerated by OpenVINO integration.\n",
    "\n",
    "Optimum Intel can be used to load optimized models from the [Hugging Face Hub](https://huggingface.co/docs/optimum/intel/hf.co/models) and create pipelines to run an inference with OpenVINO Runtime using Hugging Face APIs. The Optimum Inference models are API compatible with Hugging Face Transformers models.  This means we need just replace AutoModelForXxx class with the corresponding OVModelForXxx class."
   ]
  },
  {
   "cell_type": "code",
   "execution_count": 5,
   "metadata": {},
   "outputs": [
    {
     "name": "stdout",
     "output_type": "stream",
     "text": [
      "Requirement already satisfied: optimum[openvino] in /media/ravindu/Games/GSOC 23/ov_env/lib/python3.10/site-packages (1.7.1)\n",
      "Requirement already satisfied: packaging in /media/ravindu/Games/GSOC 23/ov_env/lib/python3.10/site-packages (from optimum[openvino]) (23.0)\n",
      "Requirement already satisfied: transformers[sentencepiece]>=4.26.0 in /media/ravindu/Games/GSOC 23/ov_env/lib/python3.10/site-packages (from optimum[openvino]) (4.26.1)\n",
      "Requirement already satisfied: coloredlogs in /media/ravindu/Games/GSOC 23/ov_env/lib/python3.10/site-packages (from optimum[openvino]) (15.0.1)\n",
      "Requirement already satisfied: sympy in /media/ravindu/Games/GSOC 23/ov_env/lib/python3.10/site-packages (from optimum[openvino]) (1.11.1)\n",
      "Requirement already satisfied: numpy in /media/ravindu/Games/GSOC 23/ov_env/lib/python3.10/site-packages (from optimum[openvino]) (1.23.4)\n",
      "Requirement already satisfied: datasets in /media/ravindu/Games/GSOC 23/ov_env/lib/python3.10/site-packages (from optimum[openvino]) (2.10.1)\n",
      "Requirement already satisfied: torch>=1.9 in /media/ravindu/Games/GSOC 23/ov_env/lib/python3.10/site-packages (from optimum[openvino]) (1.13.1+cpu)\n",
      "Requirement already satisfied: huggingface-hub>=0.8.0 in /media/ravindu/Games/GSOC 23/ov_env/lib/python3.10/site-packages (from optimum[openvino]) (0.12.1)\n",
      "Requirement already satisfied: optimum-intel[openvino] in /media/ravindu/Games/GSOC 23/ov_env/lib/python3.10/site-packages (from optimum[openvino]) (1.7.0)\n",
      "Requirement already satisfied: typing-extensions>=3.7.4.3 in /media/ravindu/Games/GSOC 23/ov_env/lib/python3.10/site-packages (from huggingface-hub>=0.8.0->optimum[openvino]) (4.5.0)\n",
      "Requirement already satisfied: filelock in /media/ravindu/Games/GSOC 23/ov_env/lib/python3.10/site-packages (from huggingface-hub>=0.8.0->optimum[openvino]) (3.9.0)\n",
      "Requirement already satisfied: tqdm>=4.42.1 in /media/ravindu/Games/GSOC 23/ov_env/lib/python3.10/site-packages (from huggingface-hub>=0.8.0->optimum[openvino]) (4.65.0)\n",
      "Requirement already satisfied: requests in /media/ravindu/Games/GSOC 23/ov_env/lib/python3.10/site-packages (from huggingface-hub>=0.8.0->optimum[openvino]) (2.28.2)\n",
      "Requirement already satisfied: pyyaml>=5.1 in /media/ravindu/Games/GSOC 23/ov_env/lib/python3.10/site-packages (from huggingface-hub>=0.8.0->optimum[openvino]) (6.0)\n",
      "Requirement already satisfied: regex!=2019.12.17 in /media/ravindu/Games/GSOC 23/ov_env/lib/python3.10/site-packages (from transformers[sentencepiece]>=4.26.0->optimum[openvino]) (2022.10.31)\n",
      "Requirement already satisfied: tokenizers!=0.11.3,<0.14,>=0.11.1 in /media/ravindu/Games/GSOC 23/ov_env/lib/python3.10/site-packages (from transformers[sentencepiece]>=4.26.0->optimum[openvino]) (0.13.2)\n",
      "Requirement already satisfied: sentencepiece!=0.1.92,>=0.1.91 in /media/ravindu/Games/GSOC 23/ov_env/lib/python3.10/site-packages (from transformers[sentencepiece]>=4.26.0->optimum[openvino]) (0.1.97)\n",
      "Requirement already satisfied: protobuf<=3.20.2 in /media/ravindu/Games/GSOC 23/ov_env/lib/python3.10/site-packages (from transformers[sentencepiece]>=4.26.0->optimum[openvino]) (3.19.6)\n",
      "Requirement already satisfied: humanfriendly>=9.1 in /media/ravindu/Games/GSOC 23/ov_env/lib/python3.10/site-packages (from coloredlogs->optimum[openvino]) (10.0)\n",
      "Requirement already satisfied: pandas in /media/ravindu/Games/GSOC 23/ov_env/lib/python3.10/site-packages (from datasets->optimum[openvino]) (1.3.5)\n",
      "Requirement already satisfied: responses<0.19 in /media/ravindu/Games/GSOC 23/ov_env/lib/python3.10/site-packages (from datasets->optimum[openvino]) (0.18.0)\n",
      "Requirement already satisfied: fsspec[http]>=2021.11.1 in /media/ravindu/Games/GSOC 23/ov_env/lib/python3.10/site-packages (from datasets->optimum[openvino]) (2023.3.0)\n",
      "Requirement already satisfied: pyarrow>=6.0.0 in /media/ravindu/Games/GSOC 23/ov_env/lib/python3.10/site-packages (from datasets->optimum[openvino]) (11.0.0)\n",
      "Requirement already satisfied: xxhash in /media/ravindu/Games/GSOC 23/ov_env/lib/python3.10/site-packages (from datasets->optimum[openvino]) (3.2.0)\n",
      "Requirement already satisfied: aiohttp in /media/ravindu/Games/GSOC 23/ov_env/lib/python3.10/site-packages (from datasets->optimum[openvino]) (3.8.4)\n",
      "Requirement already satisfied: multiprocess in /media/ravindu/Games/GSOC 23/ov_env/lib/python3.10/site-packages (from datasets->optimum[openvino]) (0.70.12.2)\n",
      "Requirement already satisfied: dill<0.3.7,>=0.3.0 in /media/ravindu/Games/GSOC 23/ov_env/lib/python3.10/site-packages (from datasets->optimum[openvino]) (0.3.4)\n",
      "Requirement already satisfied: scipy in /media/ravindu/Games/GSOC 23/ov_env/lib/python3.10/site-packages (from optimum-intel[openvino]->optimum[openvino]) (1.10.0)\n",
      "Requirement already satisfied: onnxruntime in /media/ravindu/Games/GSOC 23/ov_env/lib/python3.10/site-packages (from optimum-intel[openvino]->optimum[openvino]) (1.14.1)\n",
      "Requirement already satisfied: openvino>=2023.0.0.dev20230217 in /media/ravindu/Games/GSOC 23/ov_env/lib/python3.10/site-packages (from optimum-intel[openvino]->optimum[openvino]) (2023.0.0.dev20230217)\n",
      "Requirement already satisfied: onnx in /media/ravindu/Games/GSOC 23/ov_env/lib/python3.10/site-packages (from optimum-intel[openvino]->optimum[openvino]) (1.12.0)\n",
      "Requirement already satisfied: mpmath>=0.19 in /media/ravindu/Games/GSOC 23/ov_env/lib/python3.10/site-packages (from sympy->optimum[openvino]) (1.2.1)\n",
      "Requirement already satisfied: aiosignal>=1.1.2 in /media/ravindu/Games/GSOC 23/ov_env/lib/python3.10/site-packages (from aiohttp->datasets->optimum[openvino]) (1.3.1)\n",
      "Requirement already satisfied: charset-normalizer<4.0,>=2.0 in /media/ravindu/Games/GSOC 23/ov_env/lib/python3.10/site-packages (from aiohttp->datasets->optimum[openvino]) (3.0.1)\n",
      "Requirement already satisfied: attrs>=17.3.0 in /media/ravindu/Games/GSOC 23/ov_env/lib/python3.10/site-packages (from aiohttp->datasets->optimum[openvino]) (22.2.0)\n",
      "Requirement already satisfied: yarl<2.0,>=1.0 in /media/ravindu/Games/GSOC 23/ov_env/lib/python3.10/site-packages (from aiohttp->datasets->optimum[openvino]) (1.8.2)\n",
      "Requirement already satisfied: multidict<7.0,>=4.5 in /media/ravindu/Games/GSOC 23/ov_env/lib/python3.10/site-packages (from aiohttp->datasets->optimum[openvino]) (6.0.4)\n",
      "Requirement already satisfied: async-timeout<5.0,>=4.0.0a3 in /media/ravindu/Games/GSOC 23/ov_env/lib/python3.10/site-packages (from aiohttp->datasets->optimum[openvino]) (4.0.2)\n",
      "Requirement already satisfied: frozenlist>=1.1.1 in /media/ravindu/Games/GSOC 23/ov_env/lib/python3.10/site-packages (from aiohttp->datasets->optimum[openvino]) (1.3.3)\n",
      "Requirement already satisfied: urllib3<1.27,>=1.21.1 in /media/ravindu/Games/GSOC 23/ov_env/lib/python3.10/site-packages (from requests->huggingface-hub>=0.8.0->optimum[openvino]) (1.26.14)\n",
      "Requirement already satisfied: idna<4,>=2.5 in /media/ravindu/Games/GSOC 23/ov_env/lib/python3.10/site-packages (from requests->huggingface-hub>=0.8.0->optimum[openvino]) (3.4)\n",
      "Requirement already satisfied: certifi>=2017.4.17 in /media/ravindu/Games/GSOC 23/ov_env/lib/python3.10/site-packages (from requests->huggingface-hub>=0.8.0->optimum[openvino]) (2022.12.7)\n",
      "Requirement already satisfied: flatbuffers in /media/ravindu/Games/GSOC 23/ov_env/lib/python3.10/site-packages (from onnxruntime->optimum-intel[openvino]->optimum[openvino]) (1.12)\n",
      "Requirement already satisfied: python-dateutil>=2.7.3 in /media/ravindu/Games/GSOC 23/ov_env/lib/python3.10/site-packages (from pandas->datasets->optimum[openvino]) (2.8.2)\n",
      "Requirement already satisfied: pytz>=2017.3 in /media/ravindu/Games/GSOC 23/ov_env/lib/python3.10/site-packages (from pandas->datasets->optimum[openvino]) (2022.7.1)\n",
      "Requirement already satisfied: six>=1.5 in /media/ravindu/Games/GSOC 23/ov_env/lib/python3.10/site-packages (from python-dateutil>=2.7.3->pandas->datasets->optimum[openvino]) (1.16.0)\n"
     ]
    }
   ],
   "source": [
    "!pip install optimum[openvino]"
   ]
  },
  {
   "attachments": {},
   "cell_type": "markdown",
   "metadata": {},
   "source": [
    "Import required class"
   ]
  },
  {
   "cell_type": "code",
   "execution_count": 6,
   "metadata": {},
   "outputs": [],
   "source": [
    "from optimum.intel.openvino import OVModelForTokenClassification"
   ]
  },
  {
   "attachments": {},
   "cell_type": "markdown",
   "metadata": {},
   "source": [
    "##### Load the model\n",
    "\n",
    "From the OVModelForTokenCLassification class we will import the relevant pre-trained model. To load a Transformers model and convert it to the OpenVINO format on-the-fly, we set export=True when loading your model."
   ]
  },
  {
   "cell_type": "code",
   "execution_count": 8,
   "metadata": {},
   "outputs": [],
   "source": [
    "# The pretrained model we are using\n",
    "model_id = \"m3hrdadfi/typo-detector-distilbert-en\"\n",
    "\n",
    "model_dir = Path(\"model\")\n",
    "\n",
    "# Save the model to the path if not existing\n",
    "if model_dir.exists():\n",
    "    model = OVModelForTokenClassification.from_pretrained(model_dir)\n",
    "else:\n",
    "    model = OVModelForTokenClassification.from_pretrained(model_id, from_transformers=True)\n",
    "    model.save_pretrained(model_dir)"
   ]
  },
  {
   "attachments": {},
   "cell_type": "markdown",
   "metadata": {},
   "source": [
    "##### Load the tokenizer\n",
    "\n",
    "Text Preprocessing cleans the text-based input data so it can be fed into the model. [Tokenization](https://towardsdatascience.com/tokenization-for-natural-language-processing-a179a891bad4) splits paragraphs and sentences into smaller units that can be more easily assigned meaning. It involves cleaning the data and assigning tokens or IDs to the words, so they are represented in a vector space where similar words have similar vectors. This helps the model understand the context of a sentence. We're making use of an [AutoTokenizer](https://huggingface.co/docs/transformers/main_classes/tokenizer) from Hugging Face, which is essentially a pretrained tokenizer."
   ]
  },
  {
   "cell_type": "code",
   "execution_count": null,
   "metadata": {},
   "outputs": [],
   "source": [
    "# Load the tokernizer\n",
    "tokenizer = AutoTokenizer.from_pretrained(model_id)"
   ]
  },
  {
   "attachments": {},
   "cell_type": "markdown",
   "metadata": {},
   "source": [
    "Then we use the inference pipeline for `text-classification` task. You can find more information about usage Hugging Face inference pipelines in this [tutorial](https://huggingface.co/docs/transformers/pipeline_tutorial)"
   ]
  },
  {
   "cell_type": "code",
   "execution_count": 9,
   "metadata": {},
   "outputs": [],
   "source": [
    "nlp = pipeline('token-classification', model=model, tokenizer=tokenizer, aggregation_strategy=\"average\")"
   ]
  },
  {
   "attachments": {},
   "cell_type": "markdown",
   "metadata": {},
   "source": [
    "Function to find typos in a sentence and print them"
   ]
  },
  {
   "cell_type": "code",
   "execution_count": 11,
   "metadata": {},
   "outputs": [],
   "source": [
    "def show_typos(sentence):\n",
    "\n",
    "    typos = [sentence[r[\"start\"]: r[\"end\"]] for r in nlp(sentence)]\n",
    "\n",
    "    detected = sentence\n",
    "    for typo in typos:\n",
    "        detected = detected.replace(typo, f'<i>{typo}</i>')\n",
    "\n",
    "    print(\"[Input]: \", sentence)\n",
    "    print(\"[Detected]: \", detected)\n",
    "    print(\"-\" * 130)"
   ]
  },
  {
   "attachments": {},
   "cell_type": "markdown",
   "metadata": {},
   "source": [
    "Demo"
   ]
  },
  {
   "cell_type": "code",
   "execution_count": null,
   "metadata": {},
   "outputs": [],
   "source": [
    "sentences = [\n",
    " \"He had also stgruggled with addiction during his time in Congress .\",\n",
    " \"The review thoroughla assessed all aspects of JLENS SuR and CPG esign maturit and confidence .\",\n",
    " \"Letterma also apologized two his staff for the satyation .\",\n",
    " \"Vincent Jay had earlier won France 's first gold in gthe 10km biathlon sprint .\",\n",
    " \"It is left to the directors to figure out hpw to bring the stry across to tye audience .\",\n",
    "]\n",
    "\n",
    "for sentence in sentences:\n",
    "    show_typos(sentence)"
   ]
  },
  {
   "cell_type": "code",
   "execution_count": null,
   "metadata": {},
   "outputs": [],
   "source": []
  }
 ],
 "metadata": {
  "kernelspec": {
   "display_name": "ov_env",
   "language": "python",
   "name": "python3"
  },
  "language_info": {
   "codemirror_mode": {
    "name": "ipython",
    "version": 3
   },
   "file_extension": ".py",
   "mimetype": "text/x-python",
   "name": "python",
   "nbconvert_exporter": "python",
   "pygments_lexer": "ipython3",
   "version": "3.10.6"
  },
  "orig_nbformat": 4
 },
 "nbformat": 4,
 "nbformat_minor": 2
}
