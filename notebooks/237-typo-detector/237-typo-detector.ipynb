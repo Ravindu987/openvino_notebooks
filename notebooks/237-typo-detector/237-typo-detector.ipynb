{
 "cells": [
  {
   "attachments": {},
   "cell_type": "markdown",
   "metadata": {},
   "source": [
    "# Typo Detector with OpenVINO™\n",
    "\n",
    "Typo detection in AI is a process of identifying and correcting typographical errors in text data using machine learning algorithms. The goal of typo detection is to improve the accuracy, readability, and usability of text by identifying and indicating mistakes made during the writing process. To detect typos, AI-based typo detectors use various techniques, such as natural language processing (NLP), machine learning (ML), and deep learning (DL).\n",
    "\n",
    "A typo detector takes a sentence as an input and identify all typographical errors such as misspellings and homophone errors.\n",
    "\n",
    "This tutorial provides how to use the [Typo Detector](https://huggingface.co/m3hrdadfi/typo-detector-distilbert-en) from the [Hugging Face Transformers](https://huggingface.co/docs/transformers/index) library in the OpenVINO environment to perform the above task.\n",
    "\n",
    "The model detects typos in a given text with a high accuracy having these evaluation performances,\n",
    "- Precision score of 0.9923\n",
    "- Recall score of 0.9859\n",
    "- f1-score of 0.9891\n",
    "\n",
    "These metrics indicate that the model can correctly identify a high proportion of both correct and incorrect text, minimizing both false positives and false negatives.\n",
    "\n",
    "The model has been pretrained on the [NeuSpell](https://github.com/neuspell/neuspell) dataset.\n",
    "\n",
    "<br />\n",
    "\n",
    "<img src=https://user-images.githubusercontent.com/80534358/224564463-ee686386-f846-4b2b-91af-7163586014b7.png>"
   ]
  },
  {
   "cell_type": "markdown",
   "metadata": {},
   "source": [
    "### Imports"
   ]
  },
  {
   "cell_type": "code",
   "execution_count": null,
   "metadata": {},
   "outputs": [],
   "source": [
    "from transformers import AutoConfig, AutoTokenizer, AutoModelForTokenClassification, pipeline\n",
    "from pathlib import Path\n",
    "import numpy as np\n",
    "import torch\n",
    "import re"
   ]
  },
  {
   "attachments": {},
   "cell_type": "markdown",
   "metadata": {},
   "source": [
    "### Methods\n",
    "\n",
    "There are two methods to use the typo detection model with OpenVino. In this tutorial we will look at both of them.\n",
    "\n",
    "##### 1. Using the [Hugging Face Optimum](https://huggingface.co/docs/optimum/index) library\n",
    "The Hugging Face Optimum API is a high-level API that allows us to convert and quantize models from the Hugging Face Transformers library to the OpenVINO™ IR format. Optimum allows to the use of optimization on targeted hardware.\n",
    "\n",
    "##### 2. Converting the model to ONNX and then to OpenVino IR\n",
    "First the Pytorch model is convereted to the ONNX format and then the [Model Optimizer](https://docs.openvino.ai/latest/openvino_docs_MO_DG_Deep_Learning_Model_Optimizer_DevGuide.html) tool will be used to convert to [Openvino IR format](https://docs.openvino.ai/latest/openvino_ir.html). This method provides much more insight to the openvino environment and applications."
   ]
  },
  {
   "attachments": {},
   "cell_type": "markdown",
   "metadata": {},
   "source": [
    "### 1. Hugging Face Optimum Intel library\n",
    "\n",
    "For this method, we need to install the `Hugging Face Optimum Intel library` accelerated by OpenVINO integration.\n",
    "\n",
    "Optimum Intel can be used to load optimized models from the [Hugging Face Hub](https://huggingface.co/docs/optimum/intel/hf.co/models) and create pipelines to run an inference with OpenVINO Runtime using Hugging Face APIs. The Optimum Inference models are API compatible with Hugging Face Transformers models.  This means we need just replace AutoModelForXxx class with the corresponding OVModelForXxx class."
   ]
  },
  {
   "cell_type": "code",
   "execution_count": null,
   "metadata": {},
   "outputs": [],
   "source": [
    "!pip install optimum[openvino]"
   ]
  },
  {
   "attachments": {},
   "cell_type": "markdown",
   "metadata": {},
   "source": [
    "Import required model class"
   ]
  },
  {
   "cell_type": "code",
   "execution_count": null,
   "metadata": {},
   "outputs": [],
   "source": [
    "from optimum.intel.openvino import OVModelForTokenClassification"
   ]
  },
  {
   "attachments": {},
   "cell_type": "markdown",
   "metadata": {},
   "source": [
    "##### Load the model\n",
    "\n",
    "From the `OVModelForTokenCLassification` class we will import the relevant pre-trained model. To load a Transformers model and convert it to the OpenVINO format on-the-fly, we set export=True when loading your model."
   ]
  },
  {
   "cell_type": "code",
   "execution_count": null,
   "metadata": {},
   "outputs": [],
   "source": [
    "# The pretrained model we are using\n",
    "model_id = \"m3hrdadfi/typo-detector-distilbert-en\"\n",
    "\n",
    "model_dir = Path(\"model1\")\n",
    "\n",
    "# Save the model to the path if not existing\n",
    "if model_dir.exists():\n",
    "    model = OVModelForTokenClassification.from_pretrained(model_dir)\n",
    "else:\n",
    "    model = OVModelForTokenClassification.from_pretrained(model_id, export=True)\n",
    "    model.save_pretrained(model_dir)"
   ]
  },
  {
   "cell_type": "markdown",
   "metadata": {},
   "source": [
    "##### Load the tokenizer\n",
    "\n",
    "Text Preprocessing cleans the text-based input data so it can be fed into the model. Tokenization splits paragraphs and sentences into smaller units that can be more easily assigned meaning. It involves cleaning the data and assigning tokens or IDs to the words, so they are represented in a vector space where similar words have similar vectors. This helps the model understand the context of a sentence. We're making use of an [AutoTokenizer](https://huggingface.co/docs/transformers/main_classes/tokenizer) from Hugging Face, which is essentially a pretrained tokenizer."
   ]
  },
  {
   "cell_type": "code",
   "execution_count": null,
   "metadata": {},
   "outputs": [],
   "source": [
    "tokenizer = AutoTokenizer.from_pretrained(model_id)"
   ]
  },
  {
   "attachments": {},
   "cell_type": "markdown",
   "metadata": {},
   "source": [
    "Then we use the inference pipeline for `token-classification` task. You can find more information about usage Hugging Face inference pipelines in this [tutorial](https://huggingface.co/docs/transformers/pipeline_tutorial)"
   ]
  },
  {
   "cell_type": "code",
   "execution_count": null,
   "metadata": {},
   "outputs": [],
   "source": [
    "nlp = pipeline('token-classification', model=model, tokenizer=tokenizer, aggregation_strategy=\"average\")"
   ]
  },
  {
   "cell_type": "markdown",
   "metadata": {},
   "source": [
    "Function to find typos in a sentence and write them to the terminal"
   ]
  },
  {
   "cell_type": "code",
   "execution_count": null,
   "metadata": {},
   "outputs": [],
   "source": [
    "def show_typos(sentence):\n",
    "\n",
    "    typos = [sentence[r[\"start\"]: r[\"end\"]] for r in nlp(sentence)]\n",
    "\n",
    "    detected = sentence\n",
    "    for typo in typos:\n",
    "        detected = detected.replace(typo, f'<i>{typo}</i>')\n",
    "\n",
    "    print(\"[Input]: \", sentence)\n",
    "    print(\"[Detected]: \", detected)\n",
    "    print(\"-\" * 130)"
   ]
  },
  {
   "cell_type": "markdown",
   "metadata": {},
   "source": [
    "Demo"
   ]
  },
  {
   "cell_type": "code",
   "execution_count": null,
   "metadata": {},
   "outputs": [],
   "source": [
    "sentences = [\n",
    "    \"He had also stgruggled with addiction during his time in Congress .\",\n",
    "    \"The review thoroughla assessed all aspects of JLENS SuR and CPG esign maturit and confidence .\",\n",
    "    \"Letterma also apologized two his staff for the satyation .\",\n",
    "    \"Vincent Jay had earlier won France 's first gold in gthe 10km biathlon sprint .\",\n",
    "    \"It is left to the directors to figure out hpw to bring the stry across to tye audience .\",\n",
    "]\n",
    "\n",
    "for sentence in sentences:\n",
    "    show_typos(sentence)"
   ]
  },
  {
   "cell_type": "markdown",
   "metadata": {},
   "source": [
    "### 2. Converting the model to ONNX and then to OpenVino IR"
   ]
  },
  {
   "cell_type": "markdown",
   "metadata": {},
   "source": [
    "##### Load the Pytorch model\n",
    "\n",
    "Use the `AutoModelForTokenClassification` class to load the pretrained pytorch model."
   ]
  },
  {
   "cell_type": "code",
   "execution_count": null,
   "metadata": {},
   "outputs": [],
   "source": [
    "model_id = \"m3hrdadfi/typo-detector-distilbert-en\"\n",
    "\n",
    "tokenizer = AutoTokenizer.from_pretrained(model_id)\n",
    "model_dir = Path(\"model2\")\n",
    "config = AutoConfig.from_pretrained(model_id)\n",
    "\n",
    "# Save the model to the path if not existing\n",
    "if model_dir.exists():\n",
    "    model = AutoModelForTokenClassification.from_pretrained(model_dir)\n",
    "else:\n",
    "    model = AutoModelForTokenClassification.from_pretrained(model_id, config=config)\n",
    "    model.save_pretrained(model_dir)"
   ]
  },
  {
   "attachments": {},
   "cell_type": "markdown",
   "metadata": {},
   "source": [
    "##### Converting to [ONNX](https://onnx.ai/)\n",
    "\n",
    "`ONNX` is an open format built to represent machine learning models. ONNX defines a common set of operators - the building blocks of machine learning and deep learning models - and a common file format to enable AI developers to use models with a variety of frameworks, tools, runtimes, and compilers. We need to convert our model from PyTorch to ONNX. In order to perform the operation, we use the torch.onnx.export function to [convert a Hugging Face model](https://huggingface.co/blog/convert-transformers-to-onnx#export-with-torchonnx-low-level) to its respective ONNX format."
   ]
  },
  {
   "cell_type": "code",
   "execution_count": null,
   "metadata": {},
   "outputs": [],
   "source": [
    "onnx_model = \"typo_detect.onnx\"\n",
    "MODEL_DIR = \"model2/\"\n",
    "\n",
    "MODEL_DIR = f\"{MODEL_DIR}\"\n",
    "\n",
    "onnx_model_path = Path(MODEL_DIR) / onnx_model\n",
    "\n",
    "print(onnx_model_path)\n",
    "\n",
    "dummy_model_input = tokenizer(\"This is a sample\", return_tensors=\"pt\")\n",
    "\n",
    "torch.onnx.export(\n",
    "    model,\n",
    "    tuple(dummy_model_input.values()),\n",
    "    f=onnx_model_path,\n",
    "    input_names=['input_ids', 'attention_mask'],\n",
    "    output_names=['logits'],\n",
    "    dynamic_axes={'input_ids': {0: 'batch_size', 1: 'sequence'},\n",
    "                  'attention_mask': {0: 'batch_size', 1: 'sequence'},\n",
    "                  'logits': {0: 'batch_size', 1: 'sequence'}},\n",
    ")"
   ]
  },
  {
   "cell_type": "markdown",
   "metadata": {},
   "source": [
    "##### Model Optimizer\n",
    "\n",
    "[Model Optimizer](https://docs.openvino.ai/latest/openvino_docs_MO_DG_Deep_Learning_Model_Optimizer_DevGuide.html) is a cross-platform command-line tool that facilitates the transition between training and deployment environments, performs static model analysis, and adjusts deep learning models for optimal execution on end-point target devices.\n",
    "Model Optimizer converts the model to the OpenVINO Intermediate Representation format (IR), which you can infer later with [OpenVINO runtime](https://docs.openvino.ai/latest/openvino_docs_OV_UG_OV_Runtime_User_Guide.html#doxid-openvino-docs-o-v-u-g-o-v-runtime-user-guide)."
   ]
  },
  {
   "cell_type": "code",
   "execution_count": null,
   "metadata": {},
   "outputs": [],
   "source": [
    "optimizer_command = f'mo \\\n",
    "    --input_model {onnx_model_path} \\\n",
    "    --output_dir {MODEL_DIR} \\\n",
    "    --model_name {model_id} \\\n",
    "    --input input_ids,attention_mask \\\n",
    "    '\n",
    "! $optimizer_command"
   ]
  },
  {
   "cell_type": "markdown",
   "metadata": {},
   "source": [
    "OpenVINO™ Runtime uses the [Infer Request](https://docs.openvino.ai/latest/openvino_docs_OV_UG_Infer_request.html) mechanism which allows running models on different devices in asynchronous or synchronous manners. The model graph is sent as an argument to the OpenVINO API and an inference request is created. The default inference mode is AUTO but it can be changed according to requirements and hardware available. You can explore the different inference modes and their usage [in documentation.](https://docs.openvino.ai/latest/openvino_docs_Runtime_Inference_Modes_Overview.html)"
   ]
  },
  {
   "cell_type": "code",
   "execution_count": null,
   "metadata": {},
   "outputs": [],
   "source": [
    "from openvino.runtime import Core\n",
    "\n",
    "ie = Core()\n",
    "ir_model_xml = str((Path(MODEL_DIR) / model_id).with_suffix(\".xml\"))\n",
    "compiled_model = ie.compile_model(ir_model_xml)\n",
    "output_layer = compiled_model.output(0)"
   ]
  },
  {
   "cell_type": "markdown",
   "metadata": {},
   "source": [
    "### Helper Functions"
   ]
  },
  {
   "cell_type": "code",
   "execution_count": null,
   "metadata": {},
   "outputs": [],
   "source": [
    "from typing import List, Dict\n",
    "\n",
    "\n",
    "def token_to_words(tokens: List[str]) -> Dict[str, int]:\n",
    "    \"\"\" \n",
    "    Maps a list of tokens to words in the original text. \n",
    "    Built on the feature that tokens starting with '##' is attached to the previous token as toekns derived from the same word.\n",
    "\n",
    "    Arguments:\n",
    "    tokens -- List of tokens\n",
    "\n",
    "    Returns:\n",
    "    map_to_words -- Dictionary mapping tokens to words\n",
    "    \"\"\"\n",
    "    \n",
    "    word_count = -1\n",
    "    map_to_words = {}\n",
    "    for token in tokens:\n",
    "        if token.startswith('##'):\n",
    "            map_to_words[token] = word_count\n",
    "            continue\n",
    "        word_count += 1\n",
    "        map_to_words[token] = word_count\n",
    "    return map_to_words"
   ]
  },
  {
   "cell_type": "code",
   "execution_count": null,
   "metadata": {},
   "outputs": [],
   "source": [
    "def infer(input_text: str) -> Dict[np.ndarray, np.ndarray]:\n",
    "    \"\"\"\n",
    "    Creating a generic inference function to read the input and infer the result\n",
    "\n",
    "    Arguments:\n",
    "    input_text -- The text to be infered (String)\n",
    "\n",
    "    Returns:\n",
    "    result -- Resulting tensor from inference\n",
    "    \"\"\"\n",
    "    \n",
    "    tokens = tokenizer(\n",
    "        input_text,\n",
    "        return_tensors=\"np\",\n",
    "    )\n",
    "    inputs = dict(tokens)\n",
    "    result = compiled_model(inputs)[output_layer]\n",
    "    return result"
   ]
  },
  {
   "cell_type": "code",
   "execution_count": null,
   "metadata": {},
   "outputs": [],
   "source": [
    "def get_typo_indexes(result: Dict[np.ndarray, np.ndarray], map_to_words: Dict[str, int], tokens: List[str]) -> List[int]:\n",
    "    \"\"\" \n",
    "    Given results from the inference and tokens map to words, identifies the indexes of the words with typos.\n",
    "\n",
    "    Arguments:\n",
    "    result -- Result from inference (tensor)\n",
    "    map_to_words -- Dictionary mapping tokens to words (Dictionary)\n",
    "\n",
    "    Results:\n",
    "    wrong_words -- List of indexes of words with typos\n",
    "    \"\"\"\n",
    "\n",
    "    wrong_words = []\n",
    "    c = 0\n",
    "    result_list = result[0][1:-1]\n",
    "    for i in result_list:\n",
    "        prob = np.argmax(i)\n",
    "        if prob == 1:\n",
    "            if map_to_words[tokens[c]] not in wrong_words:\n",
    "                wrong_words.append(map_to_words[tokens[c]])\n",
    "        c += 1\n",
    "    return wrong_words"
   ]
  },
  {
   "cell_type": "code",
   "execution_count": null,
   "metadata": {},
   "outputs": [],
   "source": [
    "def sentence_split(sentence: str) -> List[str]:\n",
    "    \"\"\"\n",
    "    Split the sentence into words and characters\n",
    "\n",
    "    Arguments:\n",
    "    sentence - Sentence to be split (string)\n",
    "\n",
    "    Returns:\n",
    "    splitted -- List of words and characters\n",
    "    \"\"\"\n",
    "\n",
    "    splitted = re.split(\"([',. ])\",sentence)\n",
    "    splitted = [x for x in splitted if x != \" \" and x != \"\"]\n",
    "    return splitted"
   ]
  },
  {
   "cell_type": "code",
   "execution_count": null,
   "metadata": {},
   "outputs": [],
   "source": [
    "def show_typos(sentence: str):\n",
    "    \"\"\"\n",
    "    Detect typos from the given sentence.\n",
    "    Writes both the original input and tagged version to the terminal.\n",
    "\n",
    "    Arguments:\n",
    "    sentence -- Sentence to be evaluated (string)\n",
    "    \"\"\"\n",
    "\n",
    "    tokens = tokenizer.tokenize(sentence)\n",
    "    map_to_words = token_to_words(tokens)\n",
    "    result = infer(sentence)\n",
    "    typo_indexes = get_typo_indexes(result,map_to_words, tokens)\n",
    "\n",
    "    sentence_words = sentence_split(sentence)\n",
    "    \n",
    "    typos = [sentence_words[i] for i in typo_indexes]   \n",
    "\n",
    "    detected = sentence\n",
    "    for typo in typos:\n",
    "        detected = detected.replace(typo, f'<i>{typo}</i>')\n",
    "\n",
    "    print(\"   [Input]: \", sentence)\n",
    "    print(\"[Detected]: \", detected)\n",
    "    print(\"-\" * 130)"
   ]
  },
  {
   "cell_type": "markdown",
   "metadata": {},
   "source": [
    "### Demo"
   ]
  },
  {
   "cell_type": "code",
   "execution_count": null,
   "metadata": {},
   "outputs": [],
   "source": [
    "sentences = [\n",
    "    \"He had also stgruggled with addiction during his time in Congress .\",\n",
    "    \"The review thoroughla assessed all aspects of JLENS SuR and CPG esign maturit and confidence .\",\n",
    "    \"Letterma also apologized two his staff for the satyation .\",\n",
    "    \"Vincent Jay had earlier won France 's first gold in gthe 10km biathlon sprint .\",\n",
    "    \"It is left to the directors to figure out hpw to bring the stry across to tye audience .\",\n",
    "]   \n",
    "\n",
    "for sentence in sentences:\n",
    "    show_typos(sentence)"
   ]
  }
 ],
 "metadata": {
  "kernelspec": {
   "display_name": "Python 3 (ipykernel)",
   "language": "python",
   "name": "python3"
  },
  "language_info": {
   "codemirror_mode": {
    "name": "ipython",
    "version": 3
   },
   "file_extension": ".py",
   "mimetype": "text/x-python",
   "name": "python",
   "nbconvert_exporter": "python",
   "pygments_lexer": "ipython3",
   "version": "3.10.6"
  }
 },
 "nbformat": 4,
 "nbformat_minor": 2
}
